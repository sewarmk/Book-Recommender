{
 "cells": [
  {
   "cell_type": "code",
   "execution_count": 3,
   "metadata": {},
   "outputs": [
    {
     "name": "stdout",
     "output_type": "stream",
     "text": [
      "Requirement already satisfied: surprise==0.1 in c:\\users\\khali\\anaconda3\\lib\\site-packages (0.1)\n",
      "Requirement already satisfied: scikit-surprise in c:\\users\\khali\\anaconda3\\lib\\site-packages (from surprise==0.1) (1.0.6)\n",
      "Requirement already satisfied: numpy>=1.11.2 in c:\\users\\khali\\anaconda3\\lib\\site-packages (from scikit-surprise->surprise==0.1) (1.13.3)\n",
      "Requirement already satisfied: scipy>=1.0.0 in c:\\users\\khali\\anaconda3\\lib\\site-packages (from scikit-surprise->surprise==0.1) (1.2.1)\n",
      "Requirement already satisfied: six>=1.10.0 in c:\\users\\khali\\anaconda3\\lib\\site-packages (from scikit-surprise->surprise==0.1) (1.11.0)\n",
      "Requirement already satisfied: joblib>=0.11 in c:\\users\\khali\\anaconda3\\lib\\site-packages (from scikit-surprise->surprise==0.1) (0.13.2)\n"
     ]
    }
   ],
   "source": [
    "!pip install surprise==0.1"
   ]
  },
  {
   "cell_type": "code",
   "execution_count": 4,
   "metadata": {},
   "outputs": [
    {
     "name": "stdout",
     "output_type": "stream",
     "text": [
      "Imports successful!\n"
     ]
    }
   ],
   "source": [
    "import pandas as pd\n",
    "import matplotlib\n",
    "#Import Surprise Library Filtering Methods\n",
    "from surprise import Dataset, SVD, NormalPredictor, BaselineOnly, KNNBasic, NMF,SVDpp\n",
    "from surprise.model_selection import cross_validate, KFold\n",
    "print('Imports successful!')"
   ]
  },
  {
   "cell_type": "code",
   "execution_count": 5,
   "metadata": {
    "collapsed": true
   },
   "outputs": [],
   "source": [
    "%matplotlib inline"
   ]
  },
  {
   "cell_type": "code",
   "execution_count": 6,
   "metadata": {},
   "outputs": [
    {
     "data": {
      "text/html": [
       "<div>\n",
       "<style>\n",
       "    .dataframe thead tr:only-child th {\n",
       "        text-align: right;\n",
       "    }\n",
       "\n",
       "    .dataframe thead th {\n",
       "        text-align: left;\n",
       "    }\n",
       "\n",
       "    .dataframe tbody tr th {\n",
       "        vertical-align: top;\n",
       "    }\n",
       "</style>\n",
       "<table border=\"1\" class=\"dataframe\">\n",
       "  <thead>\n",
       "    <tr style=\"text-align: right;\">\n",
       "      <th></th>\n",
       "      <th>Rating</th>\n",
       "      <th>book_id</th>\n",
       "      <th>user_id</th>\n",
       "    </tr>\n",
       "  </thead>\n",
       "  <tbody>\n",
       "    <tr>\n",
       "      <th>0</th>\n",
       "      <td>5</td>\n",
       "      <td>56693085</td>\n",
       "      <td>13637412</td>\n",
       "    </tr>\n",
       "    <tr>\n",
       "      <th>1</th>\n",
       "      <td>4</td>\n",
       "      <td>30836455</td>\n",
       "      <td>13637412</td>\n",
       "    </tr>\n",
       "    <tr>\n",
       "      <th>2</th>\n",
       "      <td>5</td>\n",
       "      <td>6680940</td>\n",
       "      <td>13637412</td>\n",
       "    </tr>\n",
       "    <tr>\n",
       "      <th>3</th>\n",
       "      <td>3</td>\n",
       "      <td>19011044</td>\n",
       "      <td>13637412</td>\n",
       "    </tr>\n",
       "    <tr>\n",
       "      <th>4</th>\n",
       "      <td>4</td>\n",
       "      <td>54035328</td>\n",
       "      <td>13637412</td>\n",
       "    </tr>\n",
       "  </tbody>\n",
       "</table>\n",
       "</div>"
      ],
      "text/plain": [
       "   Rating   book_id   user_id\n",
       "0       5  56693085  13637412\n",
       "1       4  30836455  13637412\n",
       "2       5   6680940  13637412\n",
       "3       3  19011044  13637412\n",
       "4       4  54035328  13637412"
      ]
     },
     "execution_count": 6,
     "metadata": {},
     "output_type": "execute_result"
    }
   ],
   "source": [
    "df=pd.read_csv('unbalanced_reviews.tsv', sep='\\t')\n",
    "col_names=df.columns=['Rating','review_id','book_id','user_id','review']\n",
    "#dropping reviews column\n",
    "df.drop(['review_id', 'review'], axis=1, inplace=True)\n",
    "df.head()\n"
   ]
  },
  {
   "cell_type": "code",
   "execution_count": 7,
   "metadata": {},
   "outputs": [
    {
     "name": "stdout",
     "output_type": "stream",
     "text": [
      "Histogram generation successful!\n"
     ]
    },
    {
     "data": {
      "image/png": "[encoded data removed]",
      "text/plain": [
       "<matplotlib.figure.Figure at 0x2aa1ad0da90>"
      ]
     },
     "metadata": {},
     "output_type": "display_data"
    }
   ],
   "source": [
    "# Get the rating column\n",
    "ratingsPlot=df.Rating\n",
    "\n",
    "# Generate a histogram of that data\n",
    "ratingsPlot.value_counts().sort_index().plot.bar()\n",
    "\n",
    "print('Histogram generation successful!')"
   ]
  },
  {
   "cell_type": "code",
   "execution_count": 8,
   "metadata": {},
   "outputs": [
    {
     "data": {
      "text/html": [
       "<div>\n",
       "<style>\n",
       "    .dataframe thead tr:only-child th {\n",
       "        text-align: right;\n",
       "    }\n",
       "\n",
       "    .dataframe thead th {\n",
       "        text-align: left;\n",
       "    }\n",
       "\n",
       "    .dataframe tbody tr th {\n",
       "        vertical-align: top;\n",
       "    }\n",
       "</style>\n",
       "<table border=\"1\" class=\"dataframe\">\n",
       "  <thead>\n",
       "    <tr style=\"text-align: right;\">\n",
       "      <th></th>\n",
       "      <th>Rating</th>\n",
       "      <th>book_id</th>\n",
       "      <th>user_id</th>\n",
       "    </tr>\n",
       "  </thead>\n",
       "  <tbody>\n",
       "    <tr>\n",
       "      <th>count</th>\n",
       "      <td>510598.000000</td>\n",
       "      <td>5.105980e+05</td>\n",
       "      <td>5.105980e+05</td>\n",
       "    </tr>\n",
       "    <tr>\n",
       "      <th>mean</th>\n",
       "      <td>3.749666</td>\n",
       "      <td>1.634667e+07</td>\n",
       "      <td>1.154575e+07</td>\n",
       "    </tr>\n",
       "    <tr>\n",
       "      <th>std</th>\n",
       "      <td>1.180464</td>\n",
       "      <td>1.195889e+07</td>\n",
       "      <td>6.529257e+06</td>\n",
       "    </tr>\n",
       "    <tr>\n",
       "      <th>min</th>\n",
       "      <td>1.000000</td>\n",
       "      <td>8.324000e+03</td>\n",
       "      <td>7.600000e+02</td>\n",
       "    </tr>\n",
       "    <tr>\n",
       "      <th>25%</th>\n",
       "      <td>3.000000</td>\n",
       "      <td>6.532272e+06</td>\n",
       "      <td>6.380842e+06</td>\n",
       "    </tr>\n",
       "    <tr>\n",
       "      <th>50%</th>\n",
       "      <td>4.000000</td>\n",
       "      <td>1.332966e+07</td>\n",
       "      <td>1.045221e+07</td>\n",
       "    </tr>\n",
       "    <tr>\n",
       "      <th>75%</th>\n",
       "      <td>5.000000</td>\n",
       "      <td>2.325831e+07</td>\n",
       "      <td>1.610216e+07</td>\n",
       "    </tr>\n",
       "    <tr>\n",
       "      <th>max</th>\n",
       "      <td>5.000000</td>\n",
       "      <td>5.724964e+07</td>\n",
       "      <td>3.024053e+07</td>\n",
       "    </tr>\n",
       "  </tbody>\n",
       "</table>\n",
       "</div>"
      ],
      "text/plain": [
       "              Rating       book_id       user_id\n",
       "count  510598.000000  5.105980e+05  5.105980e+05\n",
       "mean        3.749666  1.634667e+07  1.154575e+07\n",
       "std         1.180464  1.195889e+07  6.529257e+06\n",
       "min         1.000000  8.324000e+03  7.600000e+02\n",
       "25%         3.000000  6.532272e+06  6.380842e+06\n",
       "50%         4.000000  1.332966e+07  1.045221e+07\n",
       "75%         5.000000  2.325831e+07  1.610216e+07\n",
       "max         5.000000  5.724964e+07  3.024053e+07"
      ]
     },
     "execution_count": 8,
     "metadata": {},
     "output_type": "execute_result"
    }
   ],
   "source": [
    "df.describe()"
   ]
  },
  {
   "cell_type": "code",
   "execution_count": 9,
   "metadata": {
    "collapsed": true
   },
   "outputs": [],
   "source": [
    "#define a Reader object for Surprise to be able to parse the file or the dataframe\n",
    "from surprise import Reader\n",
    "min_book_ratings = 50\n",
    "filter_books = df['book_id'].value_counts() > min_book_ratings\n",
    "filter_books = filter_books[filter_books].index.tolist()\n",
    "min_user_ratings = 50\n",
    "filter_users = df['user_id'].value_counts() > min_user_ratings\n",
    "filter_users = filter_users[filter_users].index.tolist()\n",
    "df_new = df[(df['book_id'].isin(filter_books)) & (df['user_id'].isin(filter_users))]\n",
    "reader = Reader(rating_scale=(1, 10))\n",
    "data = Dataset.load_from_df(df_new[['user_id', 'book_id', 'Rating']], reader)"
   ]
  },
  {
   "cell_type": "code",
   "execution_count": 10,
   "metadata": {},
   "outputs": [
    {
     "name": "stdout",
     "output_type": "stream",
     "text": [
      "Model creation successful!\n"
     ]
    }
   ],
   "source": [
    "#create user-based model\n",
    "model_user = KNNBasic(sim_options={'user_based': True})\n",
    "print('Model creation successful!')"
   ]
  },
  {
   "cell_type": "code",
   "execution_count": 20,
   "metadata": {},
   "outputs": [
    {
     "name": "stdout",
     "output_type": "stream",
     "text": [
      "Computing the msd similarity matrix...\n",
      "Done computing similarity matrix.\n",
      "Computing the msd similarity matrix...\n",
      "Done computing similarity matrix.\n",
      "Computing the msd similarity matrix...\n",
      "Done computing similarity matrix.\n",
      "Computing the msd similarity matrix...\n",
      "Done computing similarity matrix.\n",
      "Computing the msd similarity matrix...\n",
      "Done computing similarity matrix.\n",
      "Evaluating RMSE, MAE of algorithm KNNBasic on 5 split(s).\n",
      "\n",
      "                  Fold 1  Fold 2  Fold 3  Fold 4  Fold 5  Mean    Std     \n",
      "RMSE (testset)    1.0576  1.0645  1.0618  1.0582  1.0467  1.0578  0.0061  \n",
      "MAE (testset)     0.8474  0.8522  0.8482  0.8460  0.8377  0.8463  0.0048  \n",
      "Fit time          0.77    0.78    0.90    1.17    0.98    0.92    0.15    \n",
      "Test time         4.11    3.57    5.96    4.84    4.85    4.67    0.81    \n",
      "Model training successful!\n"
     ]
    }
   ],
   "source": [
    "# Train on data using cross-validation with k=5 folds, measuring the RMSE & MAE\n",
    "model_user_results = cross_validate(model_user, data, measures=['RMSE','MAE'], cv=5, verbose=True)\n",
    "print('Model training successful!')"
   ]
  },
  {
   "cell_type": "code",
   "execution_count": 11,
   "metadata": {},
   "outputs": [
    {
     "name": "stdout",
     "output_type": "stream",
     "text": [
      "Model creation successful!\n"
     ]
    }
   ],
   "source": [
    "#create item-based model\n",
    "model_item = KNNBasic(sim_options={'user_based': False})\n",
    "print('Model creation successful!')"
   ]
  },
  {
   "cell_type": "code",
   "execution_count": 22,
   "metadata": {},
   "outputs": [
    {
     "name": "stdout",
     "output_type": "stream",
     "text": [
      "Computing the msd similarity matrix...\n",
      "Done computing similarity matrix.\n",
      "Computing the msd similarity matrix...\n",
      "Done computing similarity matrix.\n",
      "Computing the msd similarity matrix...\n",
      "Done computing similarity matrix.\n",
      "Computing the msd similarity matrix...\n",
      "Done computing similarity matrix.\n",
      "Computing the msd similarity matrix...\n",
      "Done computing similarity matrix.\n",
      "Evaluating RMSE, MAE of algorithm KNNBasic on 5 split(s).\n",
      "\n",
      "                  Fold 1  Fold 2  Fold 3  Fold 4  Fold 5  Mean    Std     \n",
      "RMSE (testset)    1.0295  1.0356  1.0268  1.0346  1.0311  1.0315  0.0033  \n",
      "MAE (testset)     0.8254  0.8298  0.8228  0.8296  0.8223  0.8260  0.0032  \n",
      "Fit time          0.77    1.11    1.21    0.84    0.87    0.96    0.17    \n",
      "Test time         5.79    5.69    5.21    5.06    4.25    5.20    0.55    \n",
      "Model training successful!\n"
     ]
    }
   ],
   "source": [
    "# Train on data using cross-validation with k=5 folds, measuring the RMSE & MAE\n",
    "model_item_results = cross_validate(model_item, data, measures=['RMSE','MAE'], cv=5, verbose=True)\n",
    "print('Model training successful!')"
   ]
  },
  {
   "cell_type": "code",
   "execution_count": 12,
   "metadata": {},
   "outputs": [
    {
     "name": "stdout",
     "output_type": "stream",
     "text": [
      "Model creation successful!\n"
     ]
    }
   ],
   "source": [
    "#Matrix Factorization model\n",
    "model_matrix = SVD()\n",
    "print('Model creation successful!')"
   ]
  },
  {
   "cell_type": "code",
   "execution_count": 24,
   "metadata": {},
   "outputs": [
    {
     "name": "stdout",
     "output_type": "stream",
     "text": [
      "Evaluating RMSE, MAE, FCP of algorithm SVD on 5 split(s).\n",
      "\n",
      "                  Fold 1  Fold 2  Fold 3  Fold 4  Fold 5  Mean    Std     \n",
      "RMSE (testset)    0.9920  0.9970  0.9868  0.9952  0.9928  0.9928  0.0034  \n",
      "MAE (testset)     0.7913  0.7962  0.7844  0.7919  0.7898  0.7907  0.0038  \n",
      "FCP (testset)     0.6253  0.6152  0.6200  0.6238  0.6232  0.6215  0.0036  \n",
      "Fit time          15.43   12.48   9.56    9.78    9.53    11.36   2.32    \n",
      "Test time         1.00    0.59    0.23    0.23    0.37    0.49    0.29    \n",
      "Model training successful!\n"
     ]
    }
   ],
   "source": [
    "model_matrix_results = cross_validate(model_matrix, data, measures=['RMSE','MAE','FCP'], cv=5, verbose=True)\n",
    "print('Model training successful!')"
   ]
  },
  {
   "cell_type": "code",
   "execution_count": 13,
   "metadata": {},
   "outputs": [
    {
     "name": "stdout",
     "output_type": "stream",
     "text": [
      "Model creation successful!\n"
     ]
    }
   ],
   "source": [
    "#Matrix Factorization++ model\n",
    "model_svdpp= SVDpp()\n",
    "print('Model creation successful!')"
   ]
  },
  {
   "cell_type": "code",
   "execution_count": 26,
   "metadata": {},
   "outputs": [
    {
     "name": "stdout",
     "output_type": "stream",
     "text": [
      "Evaluating RMSE, MAE, FCP of algorithm SVDpp on 5 split(s).\n",
      "\n",
      "                  Fold 1  Fold 2  Fold 3  Fold 4  Fold 5  Mean    Std     \n",
      "RMSE (testset)    0.9852  0.9809  0.9810  0.9786  0.9844  0.9820  0.0024  \n",
      "MAE (testset)     0.7810  0.7764  0.7782  0.7775  0.7826  0.7792  0.0023  \n",
      "FCP (testset)     0.6307  0.6267  0.6381  0.6319  0.6363  0.6327  0.0041  \n",
      "Fit time          188.14  186.60  190.44  187.80  182.75  187.15  2.53    \n",
      "Test time         3.29    6.67    3.33    3.21    3.13    3.92    1.37    \n",
      "Model training successful!\n"
     ]
    }
   ],
   "source": [
    "#takes around 15-20 minutes to do the cross validation\n",
    "model_matrix_results = cross_validate(model_svdpp, data, measures=['RMSE','MAE','FCP'], cv=5, verbose=True)\n",
    "print('Model training successful!')"
   ]
  },
  {
   "cell_type": "code",
   "execution_count": 14,
   "metadata": {},
   "outputs": [
    {
     "name": "stdout",
     "output_type": "stream",
     "text": [
      "Function creation successful!\n"
     ]
    }
   ],
   "source": [
    "#function was adapted from here https://surprise.readthedocs.io/en/stable/FAQ.html?highlight=precision#how-to-compute-precision-k-and-recall-k\n",
    "def precision_recall_at_k(predictions, k=10, threshold=3.5):\n",
    "    '''Return precision and recall at k metrics for each user.'''\n",
    "\n",
    "    # First map the predictions to each user.\n",
    "    user_est_true = dict()\n",
    "    for uid, _, true_r, est, _ in predictions:\n",
    "        current = user_est_true.get(uid, list())\n",
    "        current.append((est, true_r))\n",
    "        user_est_true[uid] = current\n",
    "\n",
    "    precisions = dict()\n",
    "    recalls = dict()\n",
    "    for uid, user_ratings in user_est_true.items():\n",
    "\n",
    "        # Sort user ratings by estimated value\n",
    "        user_ratings.sort(key=lambda x: x[0], reverse=True)\n",
    "\n",
    "        # Number of relevant items\n",
    "        n_rel = sum((true_r >= threshold) for (_, true_r) in user_ratings)\n",
    "\n",
    "        # Number of recommended items in top k\n",
    "        n_rec_k = sum((est >= threshold) for (est, _) in user_ratings[:k])\n",
    "\n",
    "        # Number of relevant and recommended items in top k\n",
    "        n_rel_and_rec_k = sum(((true_r >= threshold) and (est >= threshold))\n",
    "                              for (est, true_r) in user_ratings[:k])\n",
    "\n",
    "        # Precision@K: Proportion of recommended items that are relevant\n",
    "        precisions[uid] = n_rel_and_rec_k / n_rec_k if n_rec_k != 0 else 1\n",
    "\n",
    "        # Recall@K: Proportion of relevant items that are recommended\n",
    "        recalls[uid] = n_rel_and_rec_k / n_rel if n_rel != 0 else 1\n",
    "\n",
    "    return precisions, recalls\n",
    "\n",
    "print('Function creation successful!')"
   ]
  },
  {
   "cell_type": "code",
   "execution_count": 30,
   "metadata": {},
   "outputs": [
    {
     "name": "stdout",
     "output_type": "stream",
     "text": [
      ">>> k=1, model=KNNBasic\n",
      "Computing the msd similarity matrix...\n",
      "Done computing similarity matrix.\n",
      "Computing the msd similarity matrix...\n",
      "Done computing similarity matrix.\n",
      "Computing the msd similarity matrix...\n",
      "Done computing similarity matrix.\n",
      "Computing the msd similarity matrix...\n",
      "Done computing similarity matrix.\n",
      "Computing the msd similarity matrix...\n",
      "Done computing similarity matrix.\n",
      "precision: 0.746\n",
      "recall  : 0.275\n",
      "\n",
      "\n",
      ">>> k=1, model=KNNBasic\n",
      "Computing the msd similarity matrix...\n",
      "Done computing similarity matrix.\n",
      "Computing the msd similarity matrix...\n",
      "Done computing similarity matrix.\n",
      "Computing the msd similarity matrix...\n",
      "Done computing similarity matrix.\n",
      "Computing the msd similarity matrix...\n",
      "Done computing similarity matrix.\n",
      "Computing the msd similarity matrix...\n",
      "Done computing similarity matrix.\n",
      "precision: 0.816\n",
      "recall  : 0.204\n",
      "\n",
      "\n",
      ">>> k=1, model=SVD\n",
      "precision: 0.816\n",
      "recall  : 0.249\n",
      "\n",
      "\n",
      ">>> k=5, model=KNNBasic\n",
      "Computing the msd similarity matrix...\n",
      "Done computing similarity matrix.\n",
      "Computing the msd similarity matrix...\n",
      "Done computing similarity matrix.\n",
      "Computing the msd similarity matrix...\n",
      "Done computing similarity matrix.\n",
      "Computing the msd similarity matrix...\n",
      "Done computing similarity matrix.\n",
      "Computing the msd similarity matrix...\n",
      "Done computing similarity matrix.\n",
      "precision: 0.686\n",
      "recall  : 0.623\n",
      "\n",
      "\n",
      ">>> k=5, model=KNNBasic\n",
      "Computing the msd similarity matrix...\n",
      "Done computing similarity matrix.\n",
      "Computing the msd similarity matrix...\n",
      "Done computing similarity matrix.\n",
      "Computing the msd similarity matrix...\n",
      "Done computing similarity matrix.\n",
      "Computing the msd similarity matrix...\n",
      "Done computing similarity matrix.\n",
      "Computing the msd similarity matrix...\n",
      "Done computing similarity matrix.\n",
      "precision: 0.79\n",
      "recall  : 0.484\n",
      "\n",
      "\n",
      ">>> k=5, model=SVD\n",
      "precision: 0.766\n",
      "recall  : 0.542\n",
      "\n",
      "\n",
      ">>> k=10, model=KNNBasic\n",
      "Computing the msd similarity matrix...\n",
      "Done computing similarity matrix.\n",
      "Computing the msd similarity matrix...\n",
      "Done computing similarity matrix.\n",
      "Computing the msd similarity matrix...\n",
      "Done computing similarity matrix.\n",
      "Computing the msd similarity matrix...\n",
      "Done computing similarity matrix.\n",
      "Computing the msd similarity matrix...\n",
      "Done computing similarity matrix.\n",
      "precision: 0.664\n",
      "recall  : 0.728\n",
      "\n",
      "\n",
      ">>> k=10, model=KNNBasic\n",
      "Computing the msd similarity matrix...\n",
      "Done computing similarity matrix.\n",
      "Computing the msd similarity matrix...\n",
      "Done computing similarity matrix.\n",
      "Computing the msd similarity matrix...\n",
      "Done computing similarity matrix.\n",
      "Computing the msd similarity matrix...\n",
      "Done computing similarity matrix.\n",
      "Computing the msd similarity matrix...\n",
      "Done computing similarity matrix.\n",
      "precision: 0.779\n",
      "recall  : 0.6\n",
      "\n",
      "\n",
      ">>> k=10, model=SVD\n",
      "precision: 0.75\n",
      "recall  : 0.635\n",
      "\n",
      "\n",
      "Precision and recall Computation successful!\n"
     ]
    }
   ],
   "source": [
    "# Make list of k values\n",
    "Kvalues = [1,5, 10]\n",
    "# Make list of models (without SVD++)\n",
    "models = [model_user, model_item, model_matrix]\n",
    "\n",
    "# Create k-fold cross validation object\n",
    "kf = KFold(n_splits=5)\n",
    "\n",
    "for k in Kvalues:\n",
    "    for model in models:\n",
    "        #first knn basics model is user-based the second is item-based\n",
    "        print(f'>>> k={k}, model={model.__class__.__name__}')\n",
    "        p = []\n",
    "        r = []\n",
    "        for trainset, testset in kf.split(data):\n",
    "            model.fit(trainset)\n",
    "            predictions = model.test(testset, verbose=False)\n",
    "            precisions, recalls = precision_recall_at_k(predictions, k=k, threshold=3.5)\n",
    "            # Precision and recall can then be averaged over all users\n",
    "            p.append(sum(prec for prec in precisions.values()) / len(precisions))\n",
    "            r.append(sum(rec for rec in recalls.values()) / len(recalls))\n",
    "        \n",
    "        print('precision:', round(sum(p) / len(p), 3))\n",
    "        print('recall  :', round(sum(r) / len(r), 3))\n",
    "        print('\\n')\n",
    "\n",
    "print('Precision and recall Computation successful!')"
   ]
  },
  {
   "cell_type": "code",
   "execution_count": 27,
   "metadata": {},
   "outputs": [
    {
     "name": "stdout",
     "output_type": "stream",
     "text": [
      "Function creation successful!\n"
     ]
    }
   ],
   "source": [
    "def get_top_n(predictions, n=5):\n",
    "    '''Return the top-N recommendation for each user from a set of predictions.\n",
    "\n",
    "    Args:\n",
    "        predictions(list of Prediction objects): The list of predictions, as\n",
    "            returned by the test method of an algorithm.\n",
    "        n(int): The number of recommendation to output for each user. Default\n",
    "            is 10.\n",
    "\n",
    "    Returns:\n",
    "    A dict where keys are user (raw) ids and values are lists of tuples:\n",
    "        [(raw item id, rating estimation), ...] of size n.\n",
    "    '''\n",
    "\n",
    "    # First map the predictions to each user.\n",
    "    top_n = dict()\n",
    "    for uid, iid, true_r, est, _ in predictions:\n",
    "        current = top_n.get(uid, [])\n",
    "        current.append((iid, est))\n",
    "        top_n[uid] = current\n",
    "\n",
    "    # Then sort the predictions for each user and retrieve the k highest ones.\n",
    "    for uid, user_ratings in top_n.items():\n",
    "        user_ratings.sort(key=lambda x: x[1], reverse=True)\n",
    "        top_n[uid] = user_ratings[:n]\n",
    "\n",
    "    return top_n\n",
    "\n",
    "print('Function creation successful!')"
   ]
  },
  {
   "cell_type": "code",
   "execution_count": 28,
   "metadata": {},
   "outputs": [
    {
     "name": "stdout",
     "output_type": "stream",
     "text": [
      "Trainset and testset creation successful!\n"
     ]
    }
   ],
   "source": [
    "#Trainset and testset creation\n",
    "trainset = data.build_full_trainset()\n",
    "testset = trainset.build_anti_testset()\n",
    "print('Trainset and testset creation successful!')"
   ]
  },
  {
   "cell_type": "code",
   "execution_count": 30,
   "metadata": {
    "scrolled": true
   },
   "outputs": [
    {
     "name": "stdout",
     "output_type": "stream",
     "text": [
      "Computing the msd similarity matrix...\n",
      "Done computing similarity matrix.\n",
      "model: <surprise.prediction_algorithms.knns.KNNBasic object at 0x0000025489C6D828>, 13637412: [(4247385, 4.7460854845535332), (13594446, 4.6504627982754432), (1550186, 4.6500000000000004), (14640891, 4.6440117293146521), (4247926, 4.6435578674319737)]\n",
      "Computing the msd similarity matrix...\n",
      "Done computing similarity matrix.\n",
      "model: <surprise.prediction_algorithms.knns.KNNBasic object at 0x00000254893D2E80>, 13637412: [(15484846, 5.0), (19122124, 4.9020402107715411), (18799895, 4.8954168032212433), (20099827, 4.8886558995252711), (45582299, 4.794949257136973)]\n",
      "model: <surprise.prediction_algorithms.matrix_factorization.SVD object at 0x0000025489C6D8D0>, 13637412: [(28812837, 5.8462260749527886), (25081877, 5.6093176652092565), (19122124, 5.5591195939087941), (15484846, 5.5236440880344597), (18799895, 5.5212214031829561)]\n",
      "model: <surprise.prediction_algorithms.matrix_factorization.SVDpp object at 0x00000254A99A10B8>, 13637412: [(15484846, 5.6719211147647046), (19122124, 5.5277115901178391), (36635435, 5.4894279418712806), (25081877, 5.4498694468717845), (14292562, 5.4401997402390458)]\n",
      "Top N computation successful!\n"
     ]
    }
   ],
   "source": [
    "#computing the top N predictions with MSD similarity\n",
    "models = [model_item, model_user, model_matrix,model_svdpp]\n",
    "\n",
    "for model in models:\n",
    "    model.fit(trainset)\n",
    "    predictions = model.test(testset)\n",
    "    top_n = get_top_n(predictions, n=5)\n",
    "    # Print the first one\n",
    "    user = list(top_n.keys())[0]\n",
    "    print(f'model: {model}, {user}: {top_n[user]}')\n",
    "\n",
    "print('Top N computation successful!')"
   ]
  }
 ],
 "metadata": {
  "kernelspec": {
   "display_name": "Python 3",
   "language": "python",
   "name": "python3"
  },
  "language_info": {
   "codemirror_mode": {
    "name": "ipython",
    "version": 3
   },
   "file_extension": ".py",
   "mimetype": "text/x-python",
   "name": "python",
   "nbconvert_exporter": "python",
   "pygments_lexer": "ipython3",
   "version": "3.6.3"
  }
 },
 "nbformat": 4,
 "nbformat_minor": 2
}
